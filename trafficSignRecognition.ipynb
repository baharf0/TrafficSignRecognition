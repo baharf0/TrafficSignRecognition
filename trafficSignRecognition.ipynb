{
 "cells": [
  {
   "cell_type": "code",
   "execution_count": 2,
   "metadata": {},
   "outputs": [],
   "source": [
    "import numpy as np\n",
    "from tensorflow import keras\n",
    "from tensorflow.keras import layers\n",
    "import cv2\n",
    "from sklearn.model_selection import train_test_split\n",
    "import matplotlib.pyplot as plt\n",
    "import csv\n"
   ]
  },
  {
   "cell_type": "code",
   "execution_count": 3,
   "metadata": {},
   "outputs": [],
   "source": [
    "# Read data \n",
    "\n",
    "def readTrafficSigns(rootpath, target_size=(32, 32)):\n",
    "\n",
    "    images = [] \n",
    "    labels = [] \n",
    "\n",
    "    for c in range(0,43):\n",
    "        prefix = rootpath + '/' + format(c, '05d') + '/' \n",
    "        gtFile = open(prefix + 'GT-'+ format(c, '05d') + '.csv') \n",
    "        gtReader = csv.reader(gtFile, delimiter=';') \n",
    "        next(gtReader)\n",
    "\n",
    "        for row in gtReader:\n",
    "            image = plt.imread(prefix + row[0])\n",
    "            image = cv2.resize(image, target_size)\n",
    "            images.append(image)\n",
    "            labels.append(int(row[7]))\n",
    "        gtFile.close()\n",
    "\n",
    "    return images, labels"
   ]
  },
  {
   "cell_type": "code",
   "execution_count": 4,
   "metadata": {},
   "outputs": [],
   "source": [
    "images, labels = readTrafficSigns('./Images')"
   ]
  },
  {
   "cell_type": "code",
   "execution_count": 5,
   "metadata": {},
   "outputs": [],
   "source": [
    "X_train, X_test, y_train, y_test = train_test_split(images, labels, test_size=0.2, random_state=42)\n",
    "X_train = np.array(X_train)\n",
    "y_train = np.array(y_train)\n",
    "X_test = np.array(X_test)\n",
    "y_test = np.array(y_test)"
   ]
  },
  {
   "cell_type": "code",
   "execution_count": 6,
   "metadata": {},
   "outputs": [],
   "source": [
    "model = keras.Sequential([\n",
    "\n",
    "    layers.Conv2D(32, (3, 3), activation='relu', input_shape=(32, 32, 3)),\n",
    "    layers.MaxPooling2D((2, 2)),\n",
    "    \n",
    "\n",
    "    layers.Conv2D(64, (3, 3), activation='relu'),\n",
    "    layers.MaxPooling2D((2, 2)),\n",
    "    \n",
    "    layers.Flatten(),\n",
    "    \n",
    "    layers.Dense(128, activation='relu'),\n",
    "    \n",
    "    layers.Dense(43, activation='softmax')  \n",
    "])\n",
    "\n",
    "model.compile(optimizer='adam',\n",
    "              loss='sparse_categorical_crossentropy',\n",
    "              metrics=['accuracy'])"
   ]
  },
  {
   "cell_type": "code",
   "execution_count": 7,
   "metadata": {},
   "outputs": [
    {
     "name": "stdout",
     "output_type": "stream",
     "text": [
      "Model: \"sequential\"\n",
      "_________________________________________________________________\n",
      " Layer (type)                Output Shape              Param #   \n",
      "=================================================================\n",
      " conv2d (Conv2D)             (None, 30, 30, 32)        896       \n",
      "                                                                 \n",
      " max_pooling2d (MaxPooling2  (None, 15, 15, 32)        0         \n",
      " D)                                                              \n",
      "                                                                 \n",
      " conv2d_1 (Conv2D)           (None, 13, 13, 64)        18496     \n",
      "                                                                 \n",
      " max_pooling2d_1 (MaxPoolin  (None, 6, 6, 64)          0         \n",
      " g2D)                                                            \n",
      "                                                                 \n",
      " flatten (Flatten)           (None, 2304)              0         \n",
      "                                                                 \n",
      " dense (Dense)               (None, 128)               295040    \n",
      "                                                                 \n",
      " dense_1 (Dense)             (None, 43)                5547      \n",
      "                                                                 \n",
      "=================================================================\n",
      "Total params: 319979 (1.22 MB)\n",
      "Trainable params: 319979 (1.22 MB)\n",
      "Non-trainable params: 0 (0.00 Byte)\n",
      "_________________________________________________________________\n"
     ]
    }
   ],
   "source": [
    "model.summary()"
   ]
  },
  {
   "cell_type": "code",
   "execution_count": 8,
   "metadata": {},
   "outputs": [
    {
     "name": "stdout",
     "output_type": "stream",
     "text": [
      "Epoch 1/10\n",
      "1931/1931 [==============================] - 21s 11ms/step - loss: 0.9341 - accuracy: 0.7926 - val_loss: 0.2485 - val_accuracy: 0.9314\n",
      "Epoch 2/10\n",
      "1931/1931 [==============================] - 21s 11ms/step - loss: 0.2272 - accuracy: 0.9422 - val_loss: 0.1504 - val_accuracy: 0.9617\n",
      "Epoch 3/10\n",
      "1931/1931 [==============================] - 21s 11ms/step - loss: 0.1710 - accuracy: 0.9587 - val_loss: 0.3395 - val_accuracy: 0.9490\n",
      "Epoch 4/10\n",
      "1931/1931 [==============================] - 22s 11ms/step - loss: 0.1356 - accuracy: 0.9678 - val_loss: 0.2141 - val_accuracy: 0.9605\n",
      "Epoch 5/10\n",
      "1931/1931 [==============================] - 22s 12ms/step - loss: 0.1221 - accuracy: 0.9725 - val_loss: 0.1659 - val_accuracy: 0.9661\n",
      "Epoch 6/10\n",
      "1931/1931 [==============================] - 22s 11ms/step - loss: 0.1372 - accuracy: 0.9718 - val_loss: 0.3159 - val_accuracy: 0.9369\n",
      "Epoch 7/10\n",
      "1931/1931 [==============================] - 22s 11ms/step - loss: 0.1226 - accuracy: 0.9759 - val_loss: 0.2433 - val_accuracy: 0.9666\n",
      "Epoch 8/10\n",
      "1931/1931 [==============================] - 22s 11ms/step - loss: 0.1256 - accuracy: 0.9782 - val_loss: 0.2350 - val_accuracy: 0.9652\n",
      "Epoch 9/10\n",
      "1931/1931 [==============================] - 22s 11ms/step - loss: 0.1254 - accuracy: 0.9793 - val_loss: 0.2148 - val_accuracy: 0.9737\n",
      "Epoch 10/10\n",
      "1931/1931 [==============================] - 21s 11ms/step - loss: 0.1054 - accuracy: 0.9834 - val_loss: 0.1910 - val_accuracy: 0.9759\n"
     ]
    },
    {
     "data": {
      "text/plain": [
       "<keras.src.callbacks.History at 0x1c0b0939f50>"
      ]
     },
     "execution_count": 8,
     "metadata": {},
     "output_type": "execute_result"
    }
   ],
   "source": [
    "model.fit(X_train, y_train, epochs=10, batch_size=16, validation_data=(X_test, y_test))"
   ]
  },
  {
   "cell_type": "code",
   "execution_count": 9,
   "metadata": {},
   "outputs": [
    {
     "name": "stdout",
     "output_type": "stream",
     "text": [
      "242/242 [==============================] - 1s 4ms/step - loss: 0.1910 - accuracy: 0.9759\n",
      "Test Accuracy: 0.9759129881858826\n"
     ]
    }
   ],
   "source": [
    "test_loss, test_accuracy = model.evaluate(X_test, y_test)\n",
    "print(\"Test Accuracy:\", test_accuracy)"
   ]
  }
 ],
 "metadata": {
  "kernelspec": {
   "display_name": "Python 3",
   "language": "python",
   "name": "python3"
  },
  "language_info": {
   "codemirror_mode": {
    "name": "ipython",
    "version": 3
   },
   "file_extension": ".py",
   "mimetype": "text/x-python",
   "name": "python",
   "nbconvert_exporter": "python",
   "pygments_lexer": "ipython3",
   "version": "3.11.2"
  },
  "orig_nbformat": 4
 },
 "nbformat": 4,
 "nbformat_minor": 2
}
